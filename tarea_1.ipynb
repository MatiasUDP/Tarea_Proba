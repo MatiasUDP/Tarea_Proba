{
  "cells": [
    {
      "cell_type": "markdown",
      "metadata": {
        "id": "lX4xpCQQl4Qo"
      },
      "source": [
        "# Tarea 1 \n",
        "Integrante 1 - Integrante 2"
      ]
    },
    {
      "cell_type": "markdown",
      "metadata": {
        "id": "dx1pZolXl4Qw"
      },
      "source": [
        "## Problema\n",
        "\n",
        "se  entrega un dataset usando datos públicos y reales donde cada fila corresponde a un vuelo\n",
        "que aterrizó o despegó de SCL. Para cada vuelo se cuenta con la siguiente información:\n",
        "\n",
        "* **Fecha-I** : Fecha y hora programada del vuelo.\n",
        "* **Vlo-I** : Número de vuelo programado.\n",
        "* **Ori-I** : Código de ciudad de origen programado.\n",
        "* **Des-I** : Código de ciudad de destino programado.\n",
        "* **Emp-I** : Código aerolínea de vuelo programado.\n",
        "* **Fecha-O** : Fecha y hora de operación del vuelo.\n",
        "* **Vlo-O** : Número de vuelo de operación del vuelo.\n",
        "* **Ori-O** : Código de ciudad de origen de operación\n",
        "* **Des-O** : Código de ciudad de destino de operación.\n",
        "* **Emp-O** : Código aerolínea de vuelo operado.\n",
        "* **DIA** : Día del mes de operación del vuelo.\n",
        "* **MES** : Número de mes de operación del vuelo.\n",
        "* **AÑO** : Año de operación del vuelo.\n",
        "* **DIANOM** : Día de la semana de operación del vuelo.\n",
        "* **TIPOVUELO** : Tipo de vuelo, I =Internacional, N =Nacional.\n",
        "* **OPERA** : Nombre de aerolínea que opera.\n",
        "* **SIGLAORI** : Nombre ciudad origen.\n",
        "* **SIGLADES** : Nombre ciudad destino."
      ]
    },
    {
      "cell_type": "code",
      "execution_count": null,
      "metadata": {
        "id": "KK9HGxMQG262"
      },
      "outputs": [],
      "source": []
    }
  ],
  "metadata": {
    "colab": {
      "provenance": []
    },
    "kernelspec": {
      "display_name": "Python 3 (ipykernel)",
      "language": "python",
      "name": "python3"
    },
    "language_info": {
      "codemirror_mode": {
        "name": "ipython",
        "version": 3
      },
      "file_extension": ".py",
      "mimetype": "text/x-python",
      "name": "python",
      "nbconvert_exporter": "python",
      "pygments_lexer": "ipython3",
      "version": "3.9.13"
    }
  },
  "nbformat": 4,
  "nbformat_minor": 0
}